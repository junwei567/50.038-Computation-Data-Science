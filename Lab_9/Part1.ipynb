{
  "cells": [
    {
      "cell_type": "markdown",
      "metadata": {
        "id": "KDMeojC4XA9R"
      },
      "source": [
        "## Training a word2vec model from scratch\n",
        "\n",
        "-- Prof. Dorien Herremans\n",
        "\n",
        "This lab consists of 2 parts, training a word2vec model from scratch, and leveraging pretrained models (different notebook). \n",
        "\n",
        "In this notebook, will start by training a word2vec model from scratch using the gensim library. You will need to ensure that you have gensim installed, and a file decompressor to load our dataset. \n",
        "\n",
        "Note: these models may take a while to train. Be sure to switch the runtime of  Google Colab to us a GPU hardware accellerator (in the menu at the top). \n",
        "\n",
        "Let's start by installing some libraries that we will use, you may not need this when using Colab. "
      ]
    },
    {
      "cell_type": "code",
      "execution_count": null,
      "metadata": {
        "id": "Ox9KX2fLjPrx"
      },
      "outputs": [],
      "source": [
        "# STUDENT NUMBER: \n",
        "\n",
        "# 1004379"
      ]
    },
    {
      "cell_type": "code",
      "execution_count": 2,
      "metadata": {
        "colab": {
          "base_uri": "https://localhost:8080/"
        },
        "id": "mDkvVQRXu8rj",
        "outputId": "e38b1339-96c0-4917-ecd9-6b95597b02b2"
      },
      "outputs": [
        {
          "name": "stdout",
          "output_type": "stream",
          "text": [
            "Requirement already satisfied: gensim in /usr/local/lib/python3.7/dist-packages (3.6.0)\n",
            "Requirement already satisfied: smart-open>=1.2.1 in /usr/local/lib/python3.7/dist-packages (from gensim) (5.2.1)\n",
            "Requirement already satisfied: scipy>=0.18.1 in /usr/local/lib/python3.7/dist-packages (from gensim) (1.4.1)\n",
            "Requirement already satisfied: six>=1.5.0 in /usr/local/lib/python3.7/dist-packages (from gensim) (1.15.0)\n",
            "Requirement already satisfied: numpy>=1.11.3 in /usr/local/lib/python3.7/dist-packages (from gensim) (1.19.5)\n",
            "Collecting wget\n",
            "  Downloading wget-3.2.zip (10 kB)\n",
            "Building wheels for collected packages: wget\n",
            "  Building wheel for wget (setup.py) ... \u001b[?25l\u001b[?25hdone\n",
            "  Created wheel for wget: filename=wget-3.2-py3-none-any.whl size=9672 sha256=a7b9030a25649c2074621b77b25689566a783b463da3d0f4b12635a6b87bba08\n",
            "  Stored in directory: /root/.cache/pip/wheels/a1/b6/7c/0e63e34eb06634181c63adacca38b79ff8f35c37e3c13e3c02\n",
            "Successfully built wget\n",
            "Installing collected packages: wget\n",
            "Successfully installed wget-3.2\n"
          ]
        }
      ],
      "source": [
        "!pip install gensim\n",
        "!pip install wget"
      ]
    },
    {
      "cell_type": "markdown",
      "metadata": {
        "id": "0qiQjAboxcBN"
      },
      "source": [
        "Now we can import libraries that we will use today. `wget` for downloading our dataset and `gensim` for our embedding models:"
      ]
    },
    {
      "cell_type": "code",
      "execution_count": 2,
      "metadata": {
        "id": "f5wZmGH0XHYP"
      },
      "outputs": [],
      "source": [
        "# imports \n",
        "import gensim \n",
        "# import wget"
      ]
    },
    {
      "cell_type": "markdown",
      "metadata": {
        "id": "02-XoaTBYuY1"
      },
      "source": [
        "We will train our model using a very small dataset for demonstrative purposes. Note that for a real data science project you should train on a much larger dataset, and ensure that the language used in the training dataset matches the language of your task, e.g. financial lingo, social networking lingo, etc. \n",
        "\n",
        "We will use the complete works of Shakespeare to train our word2vec network. You can find the dataset file at https://dorienherremans.com/drop/CDS/CNNs/shakespeare.txt"
      ]
    },
    {
      "cell_type": "code",
      "execution_count": 4,
      "metadata": {
        "colab": {
          "base_uri": "https://localhost:8080/",
          "height": 35
        },
        "id": "1Tg9GZzYt4nf",
        "outputId": "a94212ca-47f6-4eb5-8e50-0f07e3f3f6bd"
      },
      "outputs": [
        {
          "data": {
            "application/vnd.google.colaboratory.intrinsic+json": {
              "type": "string"
            },
            "text/plain": [
              "'shakespeare.txt'"
            ]
          },
          "execution_count": 4,
          "metadata": {},
          "output_type": "execute_result"
        }
      ],
      "source": [
        "# download the dataset\n",
        "wget.download(\"https://dorienherremans.com/drop/CDS/CNNs/shakespeare.txt\")"
      ]
    },
    {
      "cell_type": "markdown",
      "metadata": {
        "id": "qum8VyFdLX4M"
      },
      "source": [
        "How does this file look? "
      ]
    },
    {
      "cell_type": "code",
      "execution_count": 5,
      "metadata": {
        "colab": {
          "base_uri": "https://localhost:8080/"
        },
        "id": "f2qsWBD6LYAL",
        "outputId": "1038b0e8-1cf6-4e43-a870-57d11a94a892"
      },
      "outputs": [
        {
          "name": "stdout",
          "output_type": "stream",
          "text": [
            "1609\n",
            "\n",
            "THE SONNETS\n",
            "\n",
            "by William Shakespeare\n",
            "\n",
            "\n",
            "\n",
            "                     1\n",
            "  From fairest creatures we desire increase,\n",
            "  That thereby beauty's rose might never die,\n",
            "  But as the riper should by time decease,\n",
            "  His tender heir might bear his memory:\n",
            "  But thou contracted to thine own bright eyes,\n",
            "  Feed'st thy light's flame with self-substantial fuel,\n",
            "  Making a famine where abundance lies,\n",
            "  Thy self thy foe, to thy sweet self too cruel:\n",
            "  Thou that art now the world's fresh ornament,\n",
            "  And only herald to the gaudy spring,\n",
            "  Within thine own bud buriest thy content,\n",
            "  And tender churl mak'st waste in niggarding:\n",
            "    Pity the world, or else this glutton be,\n",
            "    To eat the world's due, by the grave and thee.\n",
            "\n",
            "\n",
            "                     2\n",
            "  When forty winters shall besiege thy brow,\n",
            "  And dig deep trenches in thy beauty's field,\n",
            "  Thy youth's proud livery so gazed on now,\n",
            "  Will be a tattered weed of small worth held:  \n",
            "  Then being asked, where all thy beauty lies,\n",
            "  Where all the treasure of thy lusty days;\n",
            "  To say within thine own deep sunken eyes,\n",
            "  Were an all-eating shame, and thriftless praise.\n",
            "  How much more praise deserved thy beauty's use,\n",
            "  If thou couldst answer 'This fair child of mine\n",
            "  Shall sum my count, and make my old excuse'\n",
            "  Proving his beauty by succession thine.\n",
            "    This were to be new made when thou art old,\n",
            "    And see thy blood warm when thou feel'st it cold.\n",
            "\n",
            "\n",
            "                     3\n",
            "  Look in thy glass and tell the face thou viewest,\n",
            "  Now is the time that face should form another,\n",
            "  Whose fresh repair if now thou not renewest,\n",
            "  Thou dost beguile the world, unbless some mother.\n",
            "  For where is she so fair whose uneared womb\n",
            "  Disdains the tillage of thy husbandry?\n",
            "  Or who is he so fond will be the tomb,\n"
          ]
        }
      ],
      "source": [
        "!head -50 shakespeare.txt"
      ]
    },
    {
      "cell_type": "markdown",
      "metadata": {
        "id": "nKHwTYP3YpJZ"
      },
      "source": [
        "Let's read the input file and convert each line into a list of words (tokenizing). Do do this, we create a function read_input which is called in the penultimate line below: "
      ]
    },
    {
      "cell_type": "code",
      "execution_count": 3,
      "metadata": {
        "colab": {
          "base_uri": "https://localhost:8080/"
        },
        "id": "F8J2jQ1JYpJd",
        "outputId": "145dc525-143a-4e9a-cb90-25cfd001e88e"
      },
      "outputs": [
        {
          "name": "stdout",
          "output_type": "stream",
          "text": [
            "reading file...\n",
            "Done reading data file\n"
          ]
        }
      ],
      "source": [
        "def read_input(input_file):\n",
        "    \n",
        "    print(\"reading file...\")\n",
        "      \n",
        "    with open (input_file, 'r') as f:   \n",
        "        lines = f.readlines()\n",
        "        for line in lines:\n",
        "            # do some pre-processing and return a (tokenized) list \n",
        "            # of words for each review text\n",
        "            # you can print the output here to understand \n",
        "            # the preprocessing (tokenizing)\n",
        "            yield gensim.utils.simple_preprocess (line)\n",
        "\n",
        "# each review item now becomes a series of words\n",
        "# this is a list of lists\n",
        "\n",
        "# point to the location on your filesystem\n",
        "data_file = 'shakespeare.txt'\n",
        "\n",
        "documents = list (read_input (data_file))\n",
        "print(\"Done reading data file\")"
      ]
    },
    {
      "cell_type": "markdown",
      "metadata": {
        "id": "kLKr0WaOiC8e"
      },
      "source": [
        "These are the resulting tokenlists: "
      ]
    },
    {
      "cell_type": "code",
      "execution_count": 4,
      "metadata": {
        "colab": {
          "base_uri": "https://localhost:8080/"
        },
        "id": "A5XfQ2XUNOuQ",
        "outputId": "fbd34ff5-0682-47cc-8075-bc4fdd2db58e"
      },
      "outputs": [
        {
          "data": {
            "text/plain": [
              "[[],\n",
              " [],\n",
              " ['the', 'sonnets'],\n",
              " [],\n",
              " ['by', 'william', 'shakespeare'],\n",
              " [],\n",
              " [],\n",
              " [],\n",
              " [],\n",
              " ['from', 'fairest', 'creatures', 'we', 'desire', 'increase'],\n",
              " ['that', 'thereby', 'beauty', 'rose', 'might', 'never', 'die'],\n",
              " ['but', 'as', 'the', 'riper', 'should', 'by', 'time', 'decease'],\n",
              " ['his', 'tender', 'heir', 'might', 'bear', 'his', 'memory'],\n",
              " ['but', 'thou', 'contracted', 'to', 'thine', 'own', 'bright', 'eyes'],\n",
              " ['feed',\n",
              "  'st',\n",
              "  'thy',\n",
              "  'light',\n",
              "  'flame',\n",
              "  'with',\n",
              "  'self',\n",
              "  'substantial',\n",
              "  'fuel'],\n",
              " ['making', 'famine', 'where', 'abundance', 'lies'],\n",
              " ['thy', 'self', 'thy', 'foe', 'to', 'thy', 'sweet', 'self', 'too', 'cruel'],\n",
              " ['thou', 'that', 'art', 'now', 'the', 'world', 'fresh', 'ornament'],\n",
              " ['and', 'only', 'herald', 'to', 'the', 'gaudy', 'spring'],\n",
              " ['within', 'thine', 'own', 'bud', 'buriest', 'thy', 'content']]"
            ]
          },
          "execution_count": 4,
          "metadata": {},
          "output_type": "execute_result"
        }
      ],
      "source": [
        "documents[0:20]"
      ]
    },
    {
      "cell_type": "markdown",
      "metadata": {
        "id": "ZnDX2S9eX1Ub"
      },
      "source": [
        "Now let's train the word2vec model using our `document` variable (which is a list of word lists). Note that you can specify a number of hyperparameters below:\n",
        "* `min_count` removes all words that occur less then `min_count`.\n",
        "* `window`: window size in the skip-gram.\n",
        "* `workers`: how many threads to use when building the model.\n",
        "* `size`: number of dimension of your new word embedding vector (typically 100-200). Smaller datasets require a smaller number.\n",
        "\n"
      ]
    },
    {
      "cell_type": "code",
      "execution_count": 6,
      "metadata": {
        "colab": {
          "base_uri": "https://localhost:8080/"
        },
        "id": "VJWmrzCRZm9Z",
        "outputId": "2d101e03-1f94-4ee4-f3ed-1ca4a66a09b6"
      },
      "outputs": [
        {
          "data": {
            "text/plain": [
              "(6704475, 8675160)"
            ]
          },
          "execution_count": 6,
          "metadata": {},
          "output_type": "execute_result"
        }
      ],
      "source": [
        "model = gensim.models.Word2Vec (documents, vector_size=150, window=5, min_count=2, workers=4)\n",
        "model.train(documents,total_examples=len(documents),epochs=10)"
      ]
    },
    {
      "cell_type": "markdown",
      "metadata": {
        "id": "0hKwagKCYpJ7"
      },
      "source": [
        "That's it! Now you've trained the model! \n",
        "\n",
        "Now let's explore some properties of our new word space. You can get the words most close (read:  most similar) to a given word. Remember, the only texts the model has seen are from shakespeare!\n",
        "\n",
        "Which word is most similar to king? (closest distance)?"
      ]
    },
    {
      "cell_type": "code",
      "execution_count": 13,
      "metadata": {
        "colab": {
          "base_uri": "https://localhost:8080/"
        },
        "id": "MTGeHhiaZzIU",
        "outputId": "bb3c8e95-4280-4c9b-8a66-63e972a476a5"
      },
      "outputs": [
        {
          "data": {
            "text/plain": [
              "[('prince', 0.6676626801490784),\n",
              " ('fifth', 0.5803143978118896),\n",
              " ('bolingbroke', 0.5670022964477539),\n",
              " ('sixth', 0.5654438734054565),\n",
              " ('plantagenets', 0.5516102910041809),\n",
              " ('duke', 0.5506790280342102),\n",
              " ('warwick', 0.5383502840995789),\n",
              " ('ghost', 0.5283503532409668),\n",
              " ('emperor', 0.5248973369598389),\n",
              " ('gaunt', 0.509273111820221)]"
            ]
          },
          "execution_count": 13,
          "metadata": {},
          "output_type": "execute_result"
        }
      ],
      "source": [
        "w1 = \"king\"\n",
        "model.wv.most_similar (positive=w1)"
      ]
    },
    {
      "cell_type": "markdown",
      "metadata": {
        "id": "Cs9KVFfLj5qD"
      },
      "source": [
        "## Exercises"
      ]
    },
    {
      "cell_type": "markdown",
      "metadata": {
        "id": "SVoli_oGO1IH"
      },
      "source": [
        "Look up the top 6 words similar to 'smile', you can use the parameter: `topn=6`\n"
      ]
    },
    {
      "cell_type": "code",
      "execution_count": 12,
      "metadata": {
        "colab": {
          "base_uri": "https://localhost:8080/"
        },
        "id": "GuJhHUOve1km",
        "outputId": "f78b2914-441f-47d4-997e-43f485e1c6d0"
      },
      "outputs": [
        {
          "data": {
            "text/plain": [
              "[('laugh', 0.7311704754829407),\n",
              " ('shine', 0.720331609249115),\n",
              " ('shoot', 0.6793885231018066),\n",
              " ('tremble', 0.675116240978241),\n",
              " ('weep', 0.6706398725509644),\n",
              " ('scowl', 0.662591278553009)]"
            ]
          },
          "execution_count": 12,
          "metadata": {},
          "output_type": "execute_result"
        }
      ],
      "source": [
        "# look up top 6 words similar to 'smile'\n",
        "w2 = [\"smile\"]\n",
        "model.wv.most_similar (positive = w2, topn = 6)"
      ]
    },
    {
      "cell_type": "markdown",
      "metadata": {
        "id": "q-BgrAgWO6AN"
      },
      "source": [
        "Look up the top 6 words similar to 'france':"
      ]
    },
    {
      "cell_type": "code",
      "execution_count": 14,
      "metadata": {
        "colab": {
          "base_uri": "https://localhost:8080/"
        },
        "id": "iZu3GGf9e41V",
        "outputId": "f98752f0-444d-4bfe-e7a0-eca1426e8e79"
      },
      "outputs": [
        {
          "data": {
            "text/plain": [
              "[('england', 0.6611058115959167),\n",
              " ('orleans', 0.5724834203720093),\n",
              " ('burgundy', 0.5712255239486694),\n",
              " ('realm', 0.5593375563621521),\n",
              " ('rome', 0.5537999272346497),\n",
              " ('wales', 0.5465272068977356)]"
            ]
          },
          "execution_count": 14,
          "metadata": {},
          "output_type": "execute_result"
        }
      ],
      "source": [
        "# look up top 6 words similar to 'france'\n",
        "w3 = [\"france\"]\n",
        "model.wv.most_similar (positive = w3, topn = 6)"
      ]
    },
    {
      "cell_type": "markdown",
      "metadata": {
        "id": "eR-jfIXQO88G"
      },
      "source": [
        "Look up the top 6 words similar to 'sword':"
      ]
    },
    {
      "cell_type": "code",
      "execution_count": 15,
      "metadata": {
        "colab": {
          "base_uri": "https://localhost:8080/"
        },
        "id": "VlDIzGHZe9yN",
        "outputId": "3694b1a9-ca66-40e6-8518-0d5eeee8a826"
      },
      "outputs": [
        {
          "data": {
            "text/plain": [
              "[('head', 0.7597981691360474),\n",
              " ('throat', 0.751476526260376),\n",
              " ('knife', 0.7182081937789917),\n",
              " ('finger', 0.7128522396087646),\n",
              " ('dagger', 0.6940761804580688),\n",
              " ('staff', 0.6819836497306824)]"
            ]
          },
          "execution_count": 15,
          "metadata": {},
          "output_type": "execute_result"
        }
      ],
      "source": [
        "# look up top 6 words similar to 'sword'\n",
        "w4 = [\"sword\"]\n",
        "model.wv.most_similar (positive = w4, topn = 6)"
      ]
    },
    {
      "cell_type": "markdown",
      "metadata": {
        "id": "0SOhoEAwPA93"
      },
      "source": [
        "Get everything related to royalty and not to 'farmer', you can use the parameter `negative`"
      ]
    },
    {
      "cell_type": "code",
      "execution_count": 16,
      "metadata": {
        "colab": {
          "base_uri": "https://localhost:8080/"
        },
        "id": "wvKKzFHbfAnr",
        "outputId": "6dbec8a1-4c04-4c60-b2f7-68830ff24512"
      },
      "outputs": [
        {
          "data": {
            "text/plain": [
              "[('princess', 0.6077569127082825),\n",
              " ('duke', 0.5896865725517273),\n",
              " ('bolingbroke', 0.5658875107765198),\n",
              " ('warwick', 0.5408164858818054),\n",
              " ('ghost', 0.5179440975189209),\n",
              " ('emperor', 0.5177733898162842),\n",
              " ('hero', 0.502153217792511),\n",
              " ('duchess', 0.5016605257987976),\n",
              " ('cousin', 0.49897846579551697),\n",
              " ('sister', 0.49292507767677307)]"
            ]
          },
          "execution_count": 16,
          "metadata": {},
          "output_type": "execute_result"
        }
      ],
      "source": [
        "w1 = [\"king\",'queen','prince']\n",
        "w2 = ['farmer']\n",
        "model.wv.most_similar (positive = w1, negative = w2, topn = 10)"
      ]
    },
    {
      "cell_type": "markdown",
      "metadata": {
        "id": "TkQZ1KkiYpK_"
      },
      "source": [
        "Explore the similarity (e.g. distance) between two words. Does the result make sense to you?"
      ]
    },
    {
      "cell_type": "code",
      "execution_count": 18,
      "metadata": {
        "colab": {
          "base_uri": "https://localhost:8080/"
        },
        "id": "3nFv31TxfBMX",
        "outputId": "636b96d4-d065-457d-b209-cd4f480a0e3f"
      },
      "outputs": [
        {
          "data": {
            "text/plain": [
              "0.5640629"
            ]
          },
          "execution_count": 18,
          "metadata": {},
          "output_type": "execute_result"
        }
      ],
      "source": [
        "# similarity between two similar words\n",
        "model.wv.similarity(w1=\"pretty\",w2=\"beautiful\")"
      ]
    },
    {
      "cell_type": "code",
      "execution_count": 7,
      "metadata": {
        "colab": {
          "base_uri": "https://localhost:8080/"
        },
        "id": "0PXLoSftYpLO",
        "outputId": "d69485ba-953c-46f7-e85a-467b5c87d41b"
      },
      "outputs": [
        {
          "data": {
            "text/plain": [
              "0.0466455"
            ]
          },
          "execution_count": 7,
          "metadata": {},
          "output_type": "execute_result"
        }
      ],
      "source": [
        "# similarity between two opposing words: king and farmer. Does it make sense? \n",
        "model.wv.similarity(w1=\"king\",w2=\"farmer\")\n",
        "# yes! the low coefficient shows that this 2 words are not similar at all, \n",
        "# since one is royalty and the other is a peasant."
      ]
    },
    {
      "cell_type": "markdown",
      "metadata": {
        "id": "hpftKgByYpLT"
      },
      "source": [
        "Try some other combinations :) "
      ]
    },
    {
      "cell_type": "markdown",
      "metadata": {
        "id": "Nw7Aabx4YpLU"
      },
      "source": [
        "We can even use it to perform more 'smart'/ IQ test type assigments. Which word in this list does not belong? "
      ]
    },
    {
      "cell_type": "code",
      "execution_count": 22,
      "metadata": {
        "colab": {
          "base_uri": "https://localhost:8080/",
          "height": 90
        },
        "id": "8eO7ra-efKYq",
        "outputId": "8e9eff02-cf49-417d-ed7b-b78f66b6073b"
      },
      "outputs": [
        {
          "name": "stderr",
          "output_type": "stream",
          "text": [
            "/usr/local/lib/python3.7/dist-packages/gensim/models/keyedvectors.py:895: FutureWarning: arrays to stack must be passed as a \"sequence\" type such as list or tuple. Support for non-sequence iterables such as generators is deprecated as of NumPy 1.16 and will raise an error in the future.\n",
            "  vectors = vstack(self.word_vec(word, use_norm=True) for word in used_words).astype(REAL)\n"
          ]
        },
        {
          "data": {
            "application/vnd.google.colaboratory.intrinsic+json": {
              "type": "string"
            },
            "text/plain": [
              "'france'"
            ]
          },
          "execution_count": 22,
          "metadata": {},
          "output_type": "execute_result"
        }
      ],
      "source": [
        "# Which one is the odd one out in this list?\n",
        "model.wv.doesnt_match([\"cat\",\"dog\",\"france\"])"
      ]
    },
    {
      "cell_type": "markdown",
      "metadata": {
        "id": "ll3RsRN2YpL3"
      },
      "source": [
        "If you are interested in plotting the words in a multidimensional space, you can actually get the vector coordinates (word embeddings) of each word: "
      ]
    },
    {
      "cell_type": "code",
      "execution_count": 23,
      "metadata": {
        "colab": {
          "base_uri": "https://localhost:8080/"
        },
        "id": "rEOzUfKcYpL4",
        "outputId": "d705827c-27ea-4285-af41-b91f3dddb901"
      },
      "outputs": [
        {
          "data": {
            "text/plain": [
              "array([ 1.010406  , -1.0792575 , -0.8496837 ,  0.11270376, -1.39865   ,\n",
              "       -0.55637205, -0.7996903 , -0.5817203 , -0.7368186 , -0.01312947,\n",
              "        0.4123315 ,  0.9813664 , -0.6286962 , -0.9936763 , -0.44755083,\n",
              "       -1.7370706 , -0.53385574,  0.24148504,  0.8096452 , -0.26952943,\n",
              "        0.79953945, -0.57426924, -0.5149955 , -0.7543412 , -0.58714294,\n",
              "        0.30475783,  0.52750474,  0.87669146,  0.8602114 , -0.86237484,\n",
              "        0.241508  , -1.1607257 , -0.2619222 ,  0.7477228 , -1.7135657 ,\n",
              "        1.0381299 , -0.2079505 ,  0.24016355,  0.6794045 , -0.6149325 ,\n",
              "       -1.0215503 , -0.981199  ,  0.75278896, -1.5176159 , -0.9321884 ,\n",
              "       -0.36072978, -1.0143435 , -0.11320997,  0.76089627,  0.94059944,\n",
              "       -0.42102197,  0.5169858 ,  1.1387469 , -0.25989032,  0.39441144,\n",
              "       -0.5575105 ,  0.5961104 , -0.8311643 ,  0.00484812, -1.1056961 ,\n",
              "       -0.2139355 , -0.15807529,  0.8375478 ,  0.67797494, -0.48962608,\n",
              "        1.0491594 ,  0.10924979,  0.33986136,  1.1017953 , -0.5299818 ,\n",
              "       -1.592914  ,  0.81908184,  0.72667396,  0.81679386, -0.48744237,\n",
              "        0.20333375,  0.40926224,  0.02991609,  1.0947461 , -0.12001554,\n",
              "        1.0654727 ,  0.42370123,  0.7206095 ,  0.95099807,  0.09692798,\n",
              "       -0.4259032 , -0.7381704 , -0.3223299 , -0.49651513, -0.35990986,\n",
              "        0.78018874,  0.16570503, -1.037267  , -0.40364888,  1.0714895 ,\n",
              "        1.6505519 , -0.49916935, -0.49650782,  0.6966835 , -1.2315965 ,\n",
              "       -0.500005  ,  0.5884668 ,  0.50929016,  0.25067186, -0.5207937 ,\n",
              "        0.68387496, -0.30007565, -0.87143916, -0.873499  ,  0.23177667,\n",
              "       -1.8639059 ,  0.5375396 ,  0.10986057,  0.62753713, -0.25218615,\n",
              "        1.1612568 , -0.27926654, -0.4909392 ,  0.02263013, -0.2688546 ,\n",
              "        0.53937334,  1.1160538 , -0.37067994, -1.2812039 , -0.39045194,\n",
              "       -0.14398825, -0.81456566, -0.3253714 ,  0.14578745, -0.56791234,\n",
              "       -0.3319577 , -0.28859887,  0.26838678,  1.3670168 , -0.49844256,\n",
              "        0.86766094,  1.6587572 , -0.03714165, -2.1435044 ,  0.8945089 ,\n",
              "       -0.0760465 , -0.69510627, -0.2007458 , -1.3810513 ,  0.22753997,\n",
              "        0.31588122,  0.20551017, -0.1707118 ,  0.7705153 , -0.04251141],\n",
              "      dtype=float32)"
            ]
          },
          "execution_count": 23,
          "metadata": {},
          "output_type": "execute_result"
        }
      ],
      "source": [
        "model.wv['france']"
      ]
    },
    {
      "cell_type": "markdown",
      "metadata": {
        "id": "1_U5DgEPYpMI"
      },
      "source": [
        "## Visualising our trained word2vec model using t-SNE: \n",
        "\n",
        "Below we visualise the first 100 words of our vocabulary in a 2D t-SNE projection. "
      ]
    },
    {
      "cell_type": "code",
      "execution_count": 26,
      "metadata": {
        "colab": {
          "base_uri": "https://localhost:8080/",
          "height": 913
        },
        "id": "0g6g7s-MYpMK",
        "outputId": "b6fde873-38d6-4b1d-c27b-79e076c82086"
      },
      "outputs": [
        {
          "data": {
            "image/png": "[encoded data removed]",
            "text/plain": [
              "<Figure size 1152x1152 with 1 Axes>"
            ]
          },
          "metadata": {
            "needs_background": "light"
          },
          "output_type": "display_data"
        }
      ],
      "source": [
        "from sklearn.manifold import TSNE\n",
        "import matplotlib.pyplot as plt\n",
        "%matplotlib inline\n",
        "\n",
        "def tsne_plot(model):\n",
        "    \"Creates and TSNE model and plots it\"\n",
        "    \n",
        "#     fyi: to test specific labels instead of all the words in the vocab: \n",
        "    labels = ['king', 'queen', 'prince', 'farmer', 'blue', 'red']\n",
        "    tokens = []\n",
        "    for label in labels: \n",
        "        tokens.append(model.wv[label])\n",
        "\n",
        "    # labels = []\n",
        "    # tokens = []\n",
        "    \n",
        "\n",
        "    # to speed up the process, let's limit to the first 100 elements\n",
        "    count = 0\n",
        "    for word in list(model.wv.key_to_index):\n",
        "        if count < 100:\n",
        "            # store the word embeddings of the words \n",
        "            tokens.append(model.wv[word])\n",
        "            # keep track of the labels too so that we can plot it in the graph below\n",
        "            labels.append(word)\n",
        "            count = count+1\n",
        "\n",
        "    # define the parameters of the tsne model\n",
        "    tsne_model = TSNE(perplexity=40, n_components=2, init='pca', n_iter=2500, random_state=23)\n",
        "    \n",
        "    # for the embeddings of our tokes to the tsne model\n",
        "    new_values = tsne_model.fit_transform(tokens)\n",
        "\n",
        "\n",
        "    # Now let's plot the tsne projects for each of the tokens in 2D\n",
        "    x = []\n",
        "    y = []\n",
        "    for value in new_values:\n",
        "        x.append(value[0])\n",
        "        y.append(value[1])\n",
        "        \n",
        "    plt.figure(figsize=(16, 16)) \n",
        "    for i in range(len(x)):\n",
        "        plt.scatter(x[i],y[i])\n",
        "        plt.annotate(labels[i],\n",
        "                     xy=(x[i], y[i]),\n",
        "                     xytext=(5, 2),\n",
        "                     textcoords='offset points',\n",
        "                     ha='right',\n",
        "                     va='bottom')\n",
        "    plt.show()\n",
        "    \n",
        "tsne_plot(model)"
      ]
    },
    {
      "cell_type": "code",
      "execution_count": 22,
      "metadata": {},
      "outputs": [
        {
          "data": {
            "text/plain": [
              "array([ 0.44497132, -1.726114  , -1.5181217 , -0.4744518 , -1.3736125 ,\n",
              "       -0.22389174,  0.01582181, -1.0451252 , -1.1477331 , -0.48206496,\n",
              "        1.7303314 , -0.2772023 , -2.5208297 , -0.44590586,  0.17340069,\n",
              "       -0.14924349,  0.12071507,  0.38709706,  0.15970707, -0.5393157 ,\n",
              "       -0.40906537,  1.3082361 ,  1.8290224 , -2.596168  ,  0.7456568 ,\n",
              "       -0.5238874 , -1.660836  ,  0.6143871 , -0.20919588, -0.77669317,\n",
              "       -1.7507231 , -2.6804805 ,  1.1242524 ,  0.51358384,  0.69393224,\n",
              "       -1.2578014 , -0.67727727,  0.11924373,  0.32768878, -0.5587975 ,\n",
              "        1.9185024 , -1.0307944 ,  1.5530868 ,  0.34711605,  0.63107055,\n",
              "        0.6352509 , -0.6305889 , -1.1323631 , -0.01548153,  1.7458566 ,\n",
              "       -0.36080942,  0.49886617,  0.7018566 ,  0.8264108 ,  1.3200258 ,\n",
              "       -0.06860771, -0.01078691, -1.0562139 , -0.42479742, -1.4024115 ,\n",
              "        1.5364048 , -0.11683348, -0.39379084, -0.550236  , -0.16451982,\n",
              "       -0.8656369 ,  0.7709815 , -1.0170691 , -0.94623196,  1.241789  ,\n",
              "       -0.8932738 ,  0.4516705 , -0.61349577,  1.6883935 , -1.0594491 ,\n",
              "       -1.0014973 , -1.0821912 , -0.7872236 , -1.7167714 , -0.1061753 ,\n",
              "       -0.01993174, -0.55162704, -1.4076291 ,  0.25573468,  0.21871318,\n",
              "        1.2237619 , -1.1286372 ,  0.62442565,  1.0065798 , -0.10410275,\n",
              "       -1.2121575 ,  0.14647664, -0.35857114,  0.06962632, -2.0523484 ,\n",
              "       -0.34313178, -1.4764745 ,  0.5257423 , -1.1029245 ,  1.4871782 ,\n",
              "        0.33629087, -0.72063565, -2.0961802 ,  0.5376219 ,  0.8875431 ,\n",
              "       -0.6842439 ,  0.48371455,  1.4595331 , -1.3320551 , -1.1969111 ,\n",
              "        0.5885904 , -0.0891314 ,  0.24289507,  0.12002011,  0.8965975 ,\n",
              "        0.96920073,  0.06503791,  0.24887957, -2.3652892 , -0.28672963,\n",
              "       -0.11207502, -0.66438615, -1.3426137 , -0.02554864,  1.279809  ,\n",
              "       -0.7283114 , -0.19727825, -0.39791092, -1.0714866 ,  0.6190358 ,\n",
              "       -1.0194669 , -0.408047  , -1.316067  , -0.8229663 , -2.4809632 ,\n",
              "       -0.14353725, -1.5054134 , -1.1301194 , -0.12826164,  0.8136793 ,\n",
              "       -1.0149188 ,  1.5115764 ,  0.93264276,  0.05050611,  0.20529537,\n",
              "        1.3402805 ,  0.58780503, -0.7566184 , -1.3340485 ,  1.6674995 ],\n",
              "      dtype=float32)"
            ]
          },
          "execution_count": 22,
          "metadata": {},
          "output_type": "execute_result"
        }
      ],
      "source": [
        "model.wv[\"king\"]"
      ]
    },
    {
      "cell_type": "markdown",
      "metadata": {
        "id": "UsRf6k4wYpMd"
      },
      "source": [
        "## References\n",
        "\n",
        "* https://radimrehurek.com/gensim/models/word2vec.html\n",
        "* https://towardsdatascience.com/multi-class-text-classification-model-comparison-and-selection-5eb066197568\n",
        "* https://github.com/kavgan/nlp-text-mining-working-examples/tree/master/word2vec\n",
        "* https://medium.com/@mishra.thedeepak/doc2vec-simple-implementation-example-df2afbbfbad5"
      ]
    }
  ],
  "metadata": {
    "accelerator": "GPU",
    "colab": {
      "collapsed_sections": [],
      "name": "Copy of CDS lab word2vec part 1 (questions)",
      "provenance": [],
      "toc_visible": true
    },
    "kernelspec": {
      "display_name": "Python 3",
      "name": "python3"
    },
    "language_info": {
      "codemirror_mode": {
        "name": "ipython",
        "version": 3
      },
      "file_extension": ".py",
      "mimetype": "text/x-python",
      "name": "python",
      "nbconvert_exporter": "python",
      "pygments_lexer": "ipython3",
      "version": "3.9.6"
    }
  },
  "nbformat": 4,
  "nbformat_minor": 0
}
