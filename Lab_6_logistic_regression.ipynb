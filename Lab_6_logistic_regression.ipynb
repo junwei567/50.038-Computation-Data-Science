{
  "nbformat": 4,
  "nbformat_minor": 0,
  "metadata": {
    "interpreter": {
      "hash": "6bea1edf50713343d797f2d3f5675b7d568eeccbe5314af310a951584ccf1264"
    },
    "kernelspec": {
      "display_name": "Python 3.9.6 64-bit ('data-sci': virtualenv)",
      "name": "python3"
    },
    "language_info": {
      "codemirror_mode": {
        "name": "ipython",
        "version": 3
      },
      "file_extension": ".py",
      "mimetype": "text/x-python",
      "name": "python",
      "nbconvert_exporter": "python",
      "pygments_lexer": "ipython3",
      "version": "3.9.6"
    },
    "colab": {
      "name": "logistic_regression_imdb_Lab_6.ipynb",
      "provenance": []
    }
  },
  "cells": [
    {
      "cell_type": "markdown",
      "metadata": {
        "id": "V0DUL5WWhvEL"
      },
      "source": [
        "## Load the IMDB dataset and create the vocabulary"
      ]
    },
    {
      "cell_type": "markdown",
      "metadata": {
        "id": "2b_2VmWc0ujw"
      },
      "source": [
        "# Lim Jun Wei 1004379\n",
        "\n",
        "This notebook has to be run on Google colab to work"
      ]
    },
    {
      "cell_type": "code",
      "metadata": {
        "id": "DrVq7sylj7eb"
      },
      "source": [
        "import torch"
      ],
      "execution_count": 1,
      "outputs": []
    },
    {
      "cell_type": "code",
      "metadata": {
        "colab": {
          "base_uri": "https://localhost:8080/"
        },
        "id": "0i_X3pWLhvEQ",
        "outputId": "3608c9e5-4dc9-4a0c-cba3-923b2d87bf89"
      },
      "source": [
        "from torchtext.datasets import IMDB\n",
        "from torchtext.data.utils import get_tokenizer\n",
        "from collections import Counter, OrderedDict\n",
        "from torchtext.vocab import vocab\n",
        "\n",
        "EMBEDDING_DIM=50\n",
        "VOCAB_SIZE=20000\n",
        "\n",
        "# Get IMDB dataset\n",
        "imdb = IMDB(split='train')\n",
        "\n",
        "# Load English tokenizer, tagger, parser and NER\n",
        "tokenizer = get_tokenizer('spacy', language='en')\n",
        "\n",
        "# build the vocab\n",
        "counter = Counter()\n",
        "for i, (label, line) in enumerate(imdb):\n",
        "    counter.update(tokenizer(line))\n",
        "\n",
        "ordered_dict = OrderedDict(counter.most_common()[:VOCAB_SIZE])\n",
        "vocab = vocab(ordered_dict)\n",
        "\n",
        "# insert special tokens and set default index to 'unknown'\n",
        "vocab.insert_token('<PAD>', 0)\n",
        "vocab.insert_token('<UNK>', 1)\n",
        "vocab.set_default_index(1)"
      ],
      "execution_count": 2,
      "outputs": [
        {
          "output_type": "stream",
          "name": "stderr",
          "text": [
            "aclImdb_v1.tar.gz: 100%|██████████| 84.1M/84.1M [00:04<00:00, 18.7MB/s]\n"
          ]
        }
      ]
    },
    {
      "cell_type": "markdown",
      "metadata": {
        "id": "Ttl5avh-hvEU"
      },
      "source": [
        "## Create embedding vectors from GloVe"
      ]
    },
    {
      "cell_type": "code",
      "metadata": {
        "colab": {
          "base_uri": "https://localhost:8080/"
        },
        "id": "bi-Dz_DHhvEV",
        "outputId": "e9936ea5-c7c8-4c2a-d6d5-570d6992d335"
      },
      "source": [
        "import torchtext as text\n",
        "\n",
        "# load glove embeddings\n",
        "vec = text.vocab.GloVe(name='6B', dim=50)\n",
        "# create the embedding matrix, a torch tensor in the shape (num_words+1, embedding_dim)\n",
        "word_emb = vec.get_vecs_by_tokens(vocab.get_itos())"
      ],
      "execution_count": 3,
      "outputs": [
        {
          "output_type": "stream",
          "name": "stderr",
          "text": [
            ".vector_cache/glove.6B.zip: 862MB [02:41, 5.35MB/s]                           \n",
            "100%|█████████▉| 399999/400000 [00:11<00:00, 36278.13it/s]\n"
          ]
        }
      ]
    },
    {
      "cell_type": "markdown",
      "metadata": {
        "id": "jRVKFKUOhvEW"
      },
      "source": [
        "## Build up train/test dataset"
      ]
    },
    {
      "cell_type": "code",
      "metadata": {
        "id": "lhWkgCj2hvEW"
      },
      "source": [
        "from torch.utils.data import DataLoader\n",
        "from torchtext.data.functional import to_map_style_dataset\n",
        "\n",
        "device = torch.device(\"cuda\" if torch.cuda.is_available() else \"cpu\")\n",
        "\n",
        "# transform input text and label to ids\n",
        "def process_text(text):\n",
        "    return vocab(tokenizer(text))\n",
        "\n",
        "label_to_ids = {'pos':0, 'neg':1}\n",
        "\n",
        "# preprocess a batch of raw data (string-like text/labels) into tensors\n",
        "def collate_batch(batch):\n",
        "    label_list, text_list, offsets = [], [], [0]\n",
        "    for (_label, _text) in batch:\n",
        "        label_list.append(label_to_ids[_label])\n",
        "        processed_text = torch.tensor(process_text(_text), dtype=torch.int64)\n",
        "        text_list.append(processed_text)\n",
        "        offsets.append(processed_text.size(0))\n",
        "    # label must be in the same size as target\n",
        "    label_list = torch.tensor(label_list, dtype=torch.float)[:,None]\n",
        "    offsets = torch.tensor(offsets[:-1]).cumsum(dim=0)\n",
        "    text_list = torch.cat(text_list)\n",
        "    return label_list.to(device), text_list.to(device), offsets.to(device)\n",
        "\n",
        "train_iter, test_iter = IMDB()\n",
        "\n",
        "# transform datasets iterator into map style so that they can be repeatedly loaded in a new epoch\n",
        "train_dataset = to_map_style_dataset(train_iter)\n",
        "testing_dataset = to_map_style_dataset(test_iter)\n",
        "\n",
        "test_dataset, val_dataset = torch.utils.data.random_split(testing_dataset, [18750, 6250])\n",
        "\n",
        "train_dataloader = DataLoader(train_dataset, batch_size=128,\n",
        "                              shuffle=True, collate_fn=collate_batch)\n",
        "test_dataloader = DataLoader(test_dataset, batch_size=128,\n",
        "                             shuffle=True, collate_fn=collate_batch)\n",
        "# Question 1\n",
        "# Write a validation dataloader by spliting the training data (I decided to split test dataset instead so that my model has more training data to train with!)\n",
        "val_dataloader = DataLoader(val_dataset, batch_size=128,\n",
        "                             shuffle=True, collate_fn=collate_batch)\n"
      ],
      "execution_count": 15,
      "outputs": []
    },
    {
      "cell_type": "markdown",
      "metadata": {
        "id": "dI14jrWWhvEY"
      },
      "source": [
        "## Define the logistic regression model"
      ]
    },
    {
      "cell_type": "code",
      "metadata": {
        "id": "Okv1tiQJhvEZ"
      },
      "source": [
        "# logistic model\n",
        "import torch\n",
        "import torch.nn as nn\n",
        "import torch.nn.functional as F\n",
        "\n",
        "class LogisticRegression(nn.Module):\n",
        "    def __init__(self, word_vec, embed_dim):\n",
        "        super().__init__()\n",
        "        # embeddingbag outputs the average of all the words in a sentence\n",
        "        \n",
        "        # Question 2 : Replace the EmbeddingBag using PyTorch builtin functions that does the same job of computing sentence representation by taking average of the word embeddings.\n",
        "        self.embedding = nn.EmbeddingBag(num_embeddings = len(vocab), embedding_dim = embed_dim, padding_idx = 0).from_pretrained(word_vec, freeze=False)\n",
        "                \n",
        "        # Question 3 : Write a Fully Connected Layer (FC layer) with output size of 100 followed by a non-linear activation e.g., ReLU\n",
        "        # write FC1 layer with output size of 100 and ReLu activation\n",
        "        # embedding -> FC1 -> relu -> FC2 -> sigmoid\n",
        "        \n",
        "        self.fc1 = nn.Linear(embed_dim, 100)\n",
        "        self.relu = torch.nn.ReLU()\n",
        "        self.fc2 = nn.Linear(100, 1)\n",
        "        self._init_weights() # not necessay but good practice\n",
        "\n",
        "    def _init_weights(self):\n",
        "        \"\"\"Initialize network parameters \n",
        "        \"\"\"\n",
        "        initrange = 0.5\n",
        "        self.embedding.weight.data.uniform_(-initrange, initrange)\n",
        "        # self.fc.weight.data.uniform_(-initrange, initrange)\n",
        "        # self.fc.bias.data.zero_()\n",
        "        self.fc1.weight.data.uniform_(-initrange, initrange)\n",
        "        self.fc2.weight.data.uniform_(-initrange, initrange)\n",
        "        self.fc1.bias.data.zero_()\n",
        "        self.fc2.bias.data.zero_()\n",
        "\n",
        "    def forward(self, text, offsets):\n",
        "        embedded = self.embedding(text, offsets)\n",
        "        # Question 4: Use the new model you define in __init__()\n",
        "        return torch.sigmoid(self.fc2(self.relu(self.fc1(embedded))))"
      ],
      "execution_count": 20,
      "outputs": []
    },
    {
      "cell_type": "markdown",
      "metadata": {
        "id": "CtAwOWZYhvEa"
      },
      "source": [
        "## Define train and test function"
      ]
    },
    {
      "cell_type": "code",
      "metadata": {
        "id": "Uco8qMmQhvEb"
      },
      "source": [
        "import time\n",
        "\n",
        "def train(dataloader):\n",
        "    model.train()\n",
        "    total_acc, total_count = 0, 0\n",
        "    log_interval = 50\n",
        "    start_time = time.time()\n",
        "\n",
        "    for idx, (label, text, offsets) in enumerate(dataloader):\n",
        "        optimizer.zero_grad()\n",
        "        # forward propagation\n",
        "        predicted_label = model(text, offsets)\n",
        "        # calculate loss and backpropagate to model paramters\n",
        "        loss = criterion(predicted_label, label)\n",
        "        loss.backward()\n",
        "        torch.nn.utils.clip_grad_norm_(model.parameters(), 0.1)\n",
        "        # update parameters by stepping the optimizer\n",
        "        optimizer.step()\n",
        "        total_acc += ((predicted_label > 0.5) == label).sum().item()\n",
        "        total_count += label.size(0)\n",
        "        if idx % log_interval == 0 and idx > 0:\n",
        "            elapsed = time.time() - start_time\n",
        "            print('| epoch {:3d} | {:5d}/{:5d} batches '\n",
        "                  '| accuracy {:8.3f}'.format(epoch, idx, len(dataloader),\n",
        "                                              total_acc/total_count))\n",
        "            total_acc, total_count = 0, 0\n",
        "            start_time = time.time()\n",
        "\n",
        "def evaluate(dataloader):\n",
        "    model.eval()\n",
        "    total_acc, total_count = 0, 0\n",
        "\n",
        "    with torch.no_grad():\n",
        "        for idx, (label, text, offsets) in enumerate(dataloader):\n",
        "            predicted_label = model(text, offsets)\n",
        "            loss = criterion(predicted_label, label)\n",
        "            total_acc += (predicted_label.argmax(1) == label).sum().item()\n",
        "            total_count += label.size(0)\n",
        "    return total_acc/total_count"
      ],
      "execution_count": 18,
      "outputs": []
    },
    {
      "cell_type": "markdown",
      "metadata": {
        "id": "9HXlApwFhvEc"
      },
      "source": [
        "## Train and evaluate the model for several epochs"
      ]
    },
    {
      "cell_type": "code",
      "metadata": {
        "id": "pPUKNPFbhvEc",
        "colab": {
          "base_uri": "https://localhost:8080/"
        },
        "outputId": "1e049e62-d2a4-4825-c296-656b3f03c8a2"
      },
      "source": [
        "# Hyperparameters\n",
        "EPOCHS = 10 \n",
        "\n",
        "model = LogisticRegression(word_vec=word_emb, embed_dim=EMBEDDING_DIM).to(device)\n",
        "optimizer = torch.optim.SGD(model.parameters(), lr=0.001)\n",
        "criterion = torch.nn.BCELoss()\n",
        "total_accu = None\n",
        "count = 0\n",
        "N = 10\n",
        "highest_accu = 0\n",
        "# Question 5: Use your validation set to early stop the model. Remember to early stop when the validation accuracy does not improve for continous N number of epochs where N is a hyperparameter. Set N = 10\n",
        "\n",
        "for epoch in range(1, EPOCHS + 1):\n",
        "    # epoch_start_time = time.time()\n",
        "    train(train_dataloader)\n",
        "    accu = evaluate(val_dataloader) # evaluate with validation data\n",
        "    if highest_accu >= accu:\n",
        "        count += 1\n",
        "        if count == N: # early stop\n",
        "            break;\n",
        "    else:\n",
        "        count = 0\n",
        "        highest_accu = accu\n",
        "        \n",
        "    \n"
      ],
      "execution_count": 24,
      "outputs": [
        {
          "output_type": "stream",
          "name": "stdout",
          "text": [
            "| epoch   1 |    50/  196 batches | accuracy    0.529\n",
            "| epoch   1 |   100/  196 batches | accuracy    0.538\n",
            "| epoch   1 |   150/  196 batches | accuracy    0.541\n",
            "| epoch   2 |    50/  196 batches | accuracy    0.538\n",
            "| epoch   2 |   100/  196 batches | accuracy    0.550\n",
            "| epoch   2 |   150/  196 batches | accuracy    0.533\n",
            "| epoch   3 |    50/  196 batches | accuracy    0.540\n",
            "| epoch   3 |   100/  196 batches | accuracy    0.542\n",
            "| epoch   3 |   150/  196 batches | accuracy    0.545\n",
            "| epoch   4 |    50/  196 batches | accuracy    0.540\n",
            "| epoch   4 |   100/  196 batches | accuracy    0.547\n",
            "| epoch   4 |   150/  196 batches | accuracy    0.548\n",
            "| epoch   5 |    50/  196 batches | accuracy    0.546\n",
            "| epoch   5 |   100/  196 batches | accuracy    0.548\n",
            "| epoch   5 |   150/  196 batches | accuracy    0.546\n",
            "| epoch   6 |    50/  196 batches | accuracy    0.553\n",
            "| epoch   6 |   100/  196 batches | accuracy    0.537\n",
            "| epoch   6 |   150/  196 batches | accuracy    0.548\n",
            "| epoch   7 |    50/  196 batches | accuracy    0.549\n",
            "| epoch   7 |   100/  196 batches | accuracy    0.551\n",
            "| epoch   7 |   150/  196 batches | accuracy    0.552\n",
            "| epoch   8 |    50/  196 batches | accuracy    0.556\n",
            "| epoch   8 |   100/  196 batches | accuracy    0.563\n",
            "| epoch   8 |   150/  196 batches | accuracy    0.559\n",
            "| epoch   9 |    50/  196 batches | accuracy    0.561\n",
            "| epoch   9 |   100/  196 batches | accuracy    0.556\n",
            "| epoch   9 |   150/  196 batches | accuracy    0.545\n",
            "| epoch  10 |    50/  196 batches | accuracy    0.556\n",
            "| epoch  10 |   100/  196 batches | accuracy    0.555\n",
            "| epoch  10 |   150/  196 batches | accuracy    0.559\n"
          ]
        }
      ]
    },
    {
      "cell_type": "code",
      "metadata": {
        "id": "sJTIIyyahvEd",
        "colab": {
          "base_uri": "https://localhost:8080/"
        },
        "outputId": "44bf78fb-8138-4652-e441-f8f88591a0f8"
      },
      "source": [
        "accu_test = evaluate(test_dataloader)\n",
        "print('test accuracy {:8.2f}%'.format(accu_test))"
      ],
      "execution_count": 25,
      "outputs": [
        {
          "output_type": "stream",
          "name": "stdout",
          "text": [
            "test accuracy    63.71%\n"
          ]
        }
      ]
    }
  ]
}